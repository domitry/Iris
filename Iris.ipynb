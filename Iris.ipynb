{
 "metadata": {
  "language": "ruby",
  "name": "",
  "signature": "sha256:4b1484e33d19247b3f15f4495e998cde4f60be1996108ecf2766629b70658816"
 },
 "nbformat": 3,
 "nbformat_minor": 0,
 "worksheets": [
  {
   "cells": [
    {
     "cell_type": "code",
     "collapsed": false,
     "input": [
      "require 'mikon'"
     ],
     "language": "python",
     "metadata": {},
     "outputs": [
      {
       "html": [
        "<script type='text/javascript'>if(window['d3'] === undefined ||\n",
        "   window['Nyaplot'] === undefined){\n",
        "    var path = {\"d3\":\"http://d3js.org/d3.v3.min\"};\n",
        "\n",
        "\n",
        "\n",
        "    var shim = {\"d3\":{\"exports\":\"d3\"}};\n",
        "\n",
        "    require.config({paths: path, shim:shim});\n",
        "\n",
        "\n",
        "require(['d3'], function(d3){window['d3']=d3;console.log('finished loading d3');\n",
        "\n",
        "\tvar script = d3.select(\"head\")\n",
        "\t    .append(\"script\")\n",
        "\t    .attr(\"src\", \"https://rawgit.com/domitry/Nyaplotjs/master/release/nyaplot.js\")\n",
        "\t    .attr(\"async\", true);\n",
        "\n",
        "\tscript[0][0].onload = script[0][0].onreadystatechange = function(){\n",
        "\n",
        "\n",
        "\t    var event = document.createEvent(\"HTMLEvents\");\n",
        "\t    event.initEvent(\"load_nyaplot\",false,false);\n",
        "\t    window.dispatchEvent(event);\n",
        "\t    console.log('Finished loading Nyaplotjs');\n",
        "\n",
        "\t};\n",
        "\n",
        "\n",
        "});\n",
        "}\n",
        "</script>"
       ],
       "metadata": {},
       "output_type": "pyout",
       "prompt_number": 1,
       "text": [
        "\"if(window['d3'] === undefined ||\\n   window['Nyaplot'] === undefined){\\n    var path = {\\\"d3\\\":\\\"http://d3js.org/d3.v3.min\\\"};\\n\\n\\n\\n    var shim = {\\\"d3\\\":{\\\"exports\\\":\\\"d3\\\"}};\\n\\n    require.config({paths: path, shim:shim});\\n\\n\\nrequire(['d3'], function(d3){window['d3']=d3;console.log('finished loading d3');\\n\\n\\tvar script = d3.select(\\\"head\\\")\\n\\t    .append(\\\"script\\\")\\n\\t    .attr(\\\"src\\\", \\\"https://rawgit.com/domitry/Nyaplotjs/master/release/nyaplot.js\\\")\\n\\t    .attr(\\\"async\\\", true);\\n\\n\\tscript[0][0].onload = script[0][0].onreadystatechange = function(){\\n\\n\\n\\t    var event = document.createEvent(\\\"HTMLEvents\\\");\\n\\t    event.initEvent(\\\"load_nyaplot\\\",false,false);\\n\\t    window.dispatchEvent(event);\\n\\t    console.log('Finished loading Nyaplotjs');\\n\\n\\t};\\n\\n\\n});\\n}\\n\""
       ]
      },
      {
       "metadata": {},
       "output_type": "pyout",
       "prompt_number": 1,
       "text": [
        "true"
       ]
      }
     ],
     "prompt_number": 1
    },
    {
     "cell_type": "heading",
     "level": 1,
     "metadata": {},
     "source": [
      "Analyzing Iris dataset using Mikon and StatSample"
     ]
    },
    {
     "cell_type": "markdown",
     "metadata": {},
     "source": [
      "![](https://dl.dropboxusercontent.com/u/47978121/6705547029_cbf3c91b7e.jpg)\n",
      "* creative commons licensed (BY) flickr photo by Ian Sane: http://flickr.com/photos/31246066@N04/6705547029"
     ]
    },
    {
     "cell_type": "code",
     "collapsed": false,
     "input": [
      "path = File.expand_path(\"../iris.csv\", __FILE__)\n",
      "df = Mikon::DataFrame.from_csv(path)"
     ],
     "language": "python",
     "metadata": {},
     "outputs": [
      {
       "html": [
        "<html><table><tr><td></td><th>sepal_length</th><th>sepal_width</th><th>petal_length</th><th>petal_width</th><th>species</th></tr><tr><th>0</th><td>5.1</td><td>3.5</td><td>1.4</td><td>0.2</td><td>setosa</td></tr><tr><th>1</th><td>4.9</td><td>3.0</td><td>1.4</td><td>0.2</td><td>setosa</td></tr><tr><th>2</th><td>4.7</td><td>3.2</td><td>1.3</td><td>0.2</td><td>setosa</td></tr><tr><th>3</th><td>4.6</td><td>3.1</td><td>1.5</td><td>0.2</td><td>setosa</td></tr><tr><th>4</th><td>5.0</td><td>3.6</td><td>1.4</td><td>0.2</td><td>setosa</td></tr><tr><th>5</th><td>5.4</td><td>3.9</td><td>1.7</td><td>0.4</td><td>setosa</td></tr><tr><th>6</th><td>4.6</td><td>3.4</td><td>1.4</td><td>0.3</td><td>setosa</td></tr><tr><th>7</th><td>5.0</td><td>3.4</td><td>1.5</td><td>0.2</td><td>setosa</td></tr><tr><th>8</th><td>4.4</td><td>2.9</td><td>1.4</td><td>0.2</td><td>setosa</td></tr><tr><th>9</th><td>4.9</td><td>3.1</td><td>1.5</td><td>0.1</td><td>setosa</td></tr><tr><th>10</th><td>5.4</td><td>3.7</td><td>1.5</td><td>0.2</td><td>setosa</td></tr><tr><th>11</th><td>4.8</td><td>3.4</td><td>1.6</td><td>0.2</td><td>setosa</td></tr><tr><th>12</th><td>4.8</td><td>3.0</td><td>1.4</td><td>0.1</td><td>setosa</td></tr><tr><th>13</th><td>4.3</td><td>3.0</td><td>1.1</td><td>0.1</td><td>setosa</td></tr><tr><th>14</th><td>5.8</td><td>4.0</td><td>1.2</td><td>0.2</td><td>setosa</td></tr><tr><th>15</th><td>5.7</td><td>4.4</td><td>1.5</td><td>0.4</td><td>setosa</td></tr><tr><th>16</th><td>5.4</td><td>3.9</td><td>1.3</td><td>0.4</td><td>setosa</td></tr><tr><th>17</th><td>5.1</td><td>3.5</td><td>1.4</td><td>0.3</td><td>setosa</td></tr><tr><th>18</th><td>5.7</td><td>3.8</td><td>1.7</td><td>0.3</td><td>setosa</td></tr><tr><th>19</th><td>5.1</td><td>3.8</td><td>1.5</td><td>0.3</td><td>setosa</td></tr><tr><th>20</th><td>5.4</td><td>3.4</td><td>1.7</td><td>0.2</td><td>setosa</td></tr><tr><th>21</th><td>5.1</td><td>3.7</td><td>1.5</td><td>0.4</td><td>setosa</td></tr><tr><th>22</th><td>4.6</td><td>3.6</td><td>1.0</td><td>0.2</td><td>setosa</td></tr><tr><th>23</th><td>5.1</td><td>3.3</td><td>1.7</td><td>0.5</td><td>setosa</td></tr><tr><th>24</th><td>4.8</td><td>3.4</td><td>1.9</td><td>0.2</td><td>setosa</td></tr><tr><th>25</th><td>5.0</td><td>3.0</td><td>1.6</td><td>0.2</td><td>setosa</td></tr><tr><th>26</th><td>5.0</td><td>3.4</td><td>1.6</td><td>0.4</td><td>setosa</td></tr><tr><th>27</th><td>5.2</td><td>3.5</td><td>1.5</td><td>0.2</td><td>setosa</td></tr><tr><th>28</th><td>5.2</td><td>3.4</td><td>1.4</td><td>0.2</td><td>setosa</td></tr><tr><th>29</th><td>4.7</td><td>3.2</td><td>1.6</td><td>0.2</td><td>setosa</td></tr><tr><th>30</th><td>4.8</td><td>3.1</td><td>1.6</td><td>0.2</td><td>setosa</td></tr><tr><th>31</th><td>5.4</td><td>3.4</td><td>1.5</td><td>0.4</td><td>setosa</td></tr><tr><th>32</th><td>5.2</td><td>4.1</td><td>1.5</td><td>0.1</td><td>setosa</td></tr><tr><th>33</th><td>5.5</td><td>4.2</td><td>1.4</td><td>0.2</td><td>setosa</td></tr><tr><th>34</th><td>4.9</td><td>3.1</td><td>1.5</td><td>0.1</td><td>setosa</td></tr><tr><th>35</th><td>5.0</td><td>3.2</td><td>1.2</td><td>0.2</td><td>setosa</td></tr><tr><th>36</th><td>5.5</td><td>3.5</td><td>1.3</td><td>0.2</td><td>setosa</td></tr><tr><th>37</th><td>4.9</td><td>3.1</td><td>1.5</td><td>0.1</td><td>setosa</td></tr><tr><th>38</th><td>4.4</td><td>3.0</td><td>1.3</td><td>0.2</td><td>setosa</td></tr><tr><th>39</th><td>5.1</td><td>3.4</td><td>1.5</td><td>0.2</td><td>setosa</td></tr><tr><th>40</th><td>5.0</td><td>3.5</td><td>1.3</td><td>0.3</td><td>setosa</td></tr><tr><th>41</th><td>4.5</td><td>2.3</td><td>1.3</td><td>0.3</td><td>setosa</td></tr><tr><th>42</th><td>4.4</td><td>3.2</td><td>1.3</td><td>0.2</td><td>setosa</td></tr><tr><th>43</th><td>5.0</td><td>3.5</td><td>1.6</td><td>0.6</td><td>setosa</td></tr><tr><th>44</th><td>5.1</td><td>3.8</td><td>1.9</td><td>0.4</td><td>setosa</td></tr><tr><th>45</th><td>4.8</td><td>3.0</td><td>1.4</td><td>0.3</td><td>setosa</td></tr><tr><th>46</th><td>5.1</td><td>3.8</td><td>1.6</td><td>0.2</td><td>setosa</td></tr><tr><th>47</th><td>4.6</td><td>3.2</td><td>1.4</td><td>0.2</td><td>setosa</td></tr><tr><th>48</th><td>5.3</td><td>3.7</td><td>1.5</td><td>0.2</td><td>setosa</td></tr><tr><th>49</th><td>5.0</td><td>3.3</td><td>1.4</td><td>0.2</td><td>setosa</td></tr><tr><th>50</th><td>7.0</td><td>3.2</td><td>4.7</td><td>1.4</td><td>versicolor</td></tr><tr><th>...</th><td>...</td><td>...</td><td>...</td><td>...</td><td>...</td></tr><tr><th>149</th><td>5.9</td><td>3.0</td><td>5.1</td><td>1.8</td><td>virginica</td></tr></table>"
       ],
       "metadata": {},
       "output_type": "pyout",
       "prompt_number": 2,
       "text": [
        "#<Mikon::DataFrame:0xb91e6f68 @labels=[:sepal_length, :sepal_width, :petal_length, :petal_width, :species], @data=[#<Mikon::DArray:0xb91e6d9c @data=#<NMatrix:0xb91e6cfc shape:[150] dtype:float64 stype:dense>, @dtype=:float64>, #<Mikon::DArray:0xb91e6ce8 @data=#<NMatrix:0xb91e6c70 shape:[150] dtype:float64 stype:dense>, @dtype=:float64>, #<Mikon::DArray:0xb91e6c48 @data=#<NMatrix:0xb91e6bd0 shape:[150] dtype:float64 stype:dense>, @dtype=:float64>, #<Mikon::DArray:0xb91e6bbc @data=#<NMatrix:0xb91e6b30 shape:[150] dtype:float64 stype:dense>, @dtype=:float64>, #<Mikon::DArray:0xb91e6b1c @data=[\"setosa\", \"setosa\", \"setosa\", \"setosa\", \"setosa\", \"setosa\", \"setosa\", \"setosa\", \"setosa\", \"setosa\", \"setosa\", \"setosa\", \"setosa\", \"setosa\", \"setosa\", \"setosa\", \"setosa\", \"setosa\", \"setosa\", \"setosa\", \"setosa\", \"setosa\", \"setosa\", \"setosa\", \"setosa\", \"setosa\", \"setosa\", \"setosa\", \"setosa\", \"setosa\", \"setosa\", \"setosa\", \"setosa\", \"setosa\", \"setosa\", \"setosa\", \"setosa\", \"setosa\", \"setosa\", \"setosa\", \"setosa\", \"setosa\", \"setosa\", \"setosa\", \"setosa\", \"setosa\", \"setosa\", \"setosa\", \"setosa\", \"setosa\", \"versicolor\", \"versicolor\", \"versicolor\", \"versicolor\", \"versicolor\", \"versicolor\", \"versicolor\", \"versicolor\", \"versicolor\", \"versicolor\", \"versicolor\", \"versicolor\", \"versicolor\", \"versicolor\", \"versicolor\", \"versicolor\", \"versicolor\", \"versicolor\", \"versicolor\", \"versicolor\", \"versicolor\", \"versicolor\", \"versicolor\", \"versicolor\", \"versicolor\", \"versicolor\", \"versicolor\", \"versicolor\", \"versicolor\", \"versicolor\", \"versicolor\", \"versicolor\", \"versicolor\", \"versicolor\", \"versicolor\", \"versicolor\", \"versicolor\", \"versicolor\", \"versicolor\", \"versicolor\", \"versicolor\", \"versicolor\", \"versicolor\", \"versicolor\", \"versicolor\", \"versicolor\", \"versicolor\", \"versicolor\", \"versicolor\", \"versicolor\", \"virginica\", \"virginica\", \"virginica\", \"virginica\", \"virginica\", \"virginica\", \"virginica\", \"virginica\", \"virginica\", \"virginica\", \"virginica\", \"virginica\", \"virginica\", \"virginica\", \"virginica\", \"virginica\", \"virginica\", \"virginica\", \"virginica\", \"virginica\", \"virginica\", \"virginica\", \"virginica\", \"virginica\", \"virginica\", \"virginica\", \"virginica\", \"virginica\", \"virginica\", \"virginica\", \"virginica\", \"virginica\", \"virginica\", \"virginica\", \"virginica\", \"virginica\", \"virginica\", \"virginica\", \"virginica\", \"virginica\", \"virginica\", \"virginica\", \"virginica\", \"virginica\", \"virginica\", \"virginica\", \"virginica\", \"virginica\", \"virginica\", \"virginica\"], @dtype=:object>], @name=\"57a65d78-ecc2-4842-a37d-69ad38a8f9d1\", @index=[0, 1, 2, 3, 4, 5, 6, 7, 8, 9, 10, 11, 12, 13, 14, 15, 16, 17, 18, 19, 20, 21, 22, 23, 24, 25, 26, 27, 28, 29, 30, 31, 32, 33, 34, 35, 36, 37, 38, 39, 40, 41, 42, 43, 44, 45, 46, 47, 48, 49, 50, 51, 52, 53, 54, 55, 56, 57, 58, 59, 60, 61, 62, 63, 64, 65, 66, 67, 68, 69, 70, 71, 72, 73, 74, 75, 76, 77, 78, 79, 80, 81, 82, 83, 84, 85, 86, 87, 88, 89, 90, 91, 92, 93, 94, 95, 96, 97, 98, 99, 100, 101, 102, 103, 104, 105, 106, 107, 108, 109, 110, 111, 112, 113, 114, 115, 116, 117, 118, 119, 120, 121, 122, 123, 124, 125, 126, 127, 128, 129, 130, 131, 132, 133, 134, 135, 136, 137, 138, 139, 140, 141, 142, 143, 144, 145, 146, 147, 148, 149]>"
       ]
      }
     ],
     "prompt_number": 2
    },
    {
     "cell_type": "code",
     "collapsed": false,
     "input": [
      "plot = df.plot(type: :scatter, x: :sepal_length, y: :petal_length, fill_by: :species, color: :qual)"
     ],
     "language": "python",
     "metadata": {},
     "outputs": [
      {
       "html": [
        "<div id='vis-1e717cd3-8aff-44a9-a326-bbcbd1509877'></div>\n",
        "<script>\n",
        "(function(){\n",
        "    var render = function(){\n",
        "        var model = {\"panes\":[{\"diagrams\":[{\"type\":\"scatter\",\"options\":{\"x\":\"sepal_length\",\"y\":\"petal_length\",\"color\":[\"rgb(127,201,127)\",\"rgb(190,174,212)\",\"rgb(253,192,134)\",\"rgb(255,255,153)\",\"rgb(56,108,176)\",\"rgb(240,2,127)\",\"rgb(191,91,23)\",\"rgb(102,102,102)\"],\"fill_by\":\"species\"},\"data\":\"57a65d78-ecc2-4842-a37d-69ad38a8f9d1\"}],\"options\":{\"x_label\":\"sepal_length\",\"y_label\":\"petal_length\",\"zoom\":true,\"width\":700,\"xrange\":[4.3,7.9],\"yrange\":[1.0,6.9]}}],\"data\":{\"57a65d78-ecc2-4842-a37d-69ad38a8f9d1\":[{\"sepal_length\":5.1,\"sepal_width\":3.5,\"petal_length\":1.4,\"petal_width\":0.2,\"species\":\"setosa\"},{\"sepal_length\":4.9,\"sepal_width\":3.0,\"petal_length\":1.4,\"petal_width\":0.2,\"species\":\"setosa\"},{\"sepal_length\":4.7,\"sepal_width\":3.2,\"petal_length\":1.3,\"petal_width\":0.2,\"species\":\"setosa\"},{\"sepal_length\":4.6,\"sepal_width\":3.1,\"petal_length\":1.5,\"petal_width\":0.2,\"species\":\"setosa\"},{\"sepal_length\":5.0,\"sepal_width\":3.6,\"petal_length\":1.4,\"petal_width\":0.2,\"species\":\"setosa\"},{\"sepal_length\":5.4,\"sepal_width\":3.9,\"petal_length\":1.7,\"petal_width\":0.4,\"species\":\"setosa\"},{\"sepal_length\":4.6,\"sepal_width\":3.4,\"petal_length\":1.4,\"petal_width\":0.3,\"species\":\"setosa\"},{\"sepal_length\":5.0,\"sepal_width\":3.4,\"petal_length\":1.5,\"petal_width\":0.2,\"species\":\"setosa\"},{\"sepal_length\":4.4,\"sepal_width\":2.9,\"petal_length\":1.4,\"petal_width\":0.2,\"species\":\"setosa\"},{\"sepal_length\":4.9,\"sepal_width\":3.1,\"petal_length\":1.5,\"petal_width\":0.1,\"species\":\"setosa\"},{\"sepal_length\":5.4,\"sepal_width\":3.7,\"petal_length\":1.5,\"petal_width\":0.2,\"species\":\"setosa\"},{\"sepal_length\":4.8,\"sepal_width\":3.4,\"petal_length\":1.6,\"petal_width\":0.2,\"species\":\"setosa\"},{\"sepal_length\":4.8,\"sepal_width\":3.0,\"petal_length\":1.4,\"petal_width\":0.1,\"species\":\"setosa\"},{\"sepal_length\":4.3,\"sepal_width\":3.0,\"petal_length\":1.1,\"petal_width\":0.1,\"species\":\"setosa\"},{\"sepal_length\":5.8,\"sepal_width\":4.0,\"petal_length\":1.2,\"petal_width\":0.2,\"species\":\"setosa\"},{\"sepal_length\":5.7,\"sepal_width\":4.4,\"petal_length\":1.5,\"petal_width\":0.4,\"species\":\"setosa\"},{\"sepal_length\":5.4,\"sepal_width\":3.9,\"petal_length\":1.3,\"petal_width\":0.4,\"species\":\"setosa\"},{\"sepal_length\":5.1,\"sepal_width\":3.5,\"petal_length\":1.4,\"petal_width\":0.3,\"species\":\"setosa\"},{\"sepal_length\":5.7,\"sepal_width\":3.8,\"petal_length\":1.7,\"petal_width\":0.3,\"species\":\"setosa\"},{\"sepal_length\":5.1,\"sepal_width\":3.8,\"petal_length\":1.5,\"petal_width\":0.3,\"species\":\"setosa\"},{\"sepal_length\":5.4,\"sepal_width\":3.4,\"petal_length\":1.7,\"petal_width\":0.2,\"species\":\"setosa\"},{\"sepal_length\":5.1,\"sepal_width\":3.7,\"petal_length\":1.5,\"petal_width\":0.4,\"species\":\"setosa\"},{\"sepal_length\":4.6,\"sepal_width\":3.6,\"petal_length\":1.0,\"petal_width\":0.2,\"species\":\"setosa\"},{\"sepal_length\":5.1,\"sepal_width\":3.3,\"petal_length\":1.7,\"petal_width\":0.5,\"species\":\"setosa\"},{\"sepal_length\":4.8,\"sepal_width\":3.4,\"petal_length\":1.9,\"petal_width\":0.2,\"species\":\"setosa\"},{\"sepal_length\":5.0,\"sepal_width\":3.0,\"petal_length\":1.6,\"petal_width\":0.2,\"species\":\"setosa\"},{\"sepal_length\":5.0,\"sepal_width\":3.4,\"petal_length\":1.6,\"petal_width\":0.4,\"species\":\"setosa\"},{\"sepal_length\":5.2,\"sepal_width\":3.5,\"petal_length\":1.5,\"petal_width\":0.2,\"species\":\"setosa\"},{\"sepal_length\":5.2,\"sepal_width\":3.4,\"petal_length\":1.4,\"petal_width\":0.2,\"species\":\"setosa\"},{\"sepal_length\":4.7,\"sepal_width\":3.2,\"petal_length\":1.6,\"petal_width\":0.2,\"species\":\"setosa\"},{\"sepal_length\":4.8,\"sepal_width\":3.1,\"petal_length\":1.6,\"petal_width\":0.2,\"species\":\"setosa\"},{\"sepal_length\":5.4,\"sepal_width\":3.4,\"petal_length\":1.5,\"petal_width\":0.4,\"species\":\"setosa\"},{\"sepal_length\":5.2,\"sepal_width\":4.1,\"petal_length\":1.5,\"petal_width\":0.1,\"species\":\"setosa\"},{\"sepal_length\":5.5,\"sepal_width\":4.2,\"petal_length\":1.4,\"petal_width\":0.2,\"species\":\"setosa\"},{\"sepal_length\":4.9,\"sepal_width\":3.1,\"petal_length\":1.5,\"petal_width\":0.1,\"species\":\"setosa\"},{\"sepal_length\":5.0,\"sepal_width\":3.2,\"petal_length\":1.2,\"petal_width\":0.2,\"species\":\"setosa\"},{\"sepal_length\":5.5,\"sepal_width\":3.5,\"petal_length\":1.3,\"petal_width\":0.2,\"species\":\"setosa\"},{\"sepal_length\":4.9,\"sepal_width\":3.1,\"petal_length\":1.5,\"petal_width\":0.1,\"species\":\"setosa\"},{\"sepal_length\":4.4,\"sepal_width\":3.0,\"petal_length\":1.3,\"petal_width\":0.2,\"species\":\"setosa\"},{\"sepal_length\":5.1,\"sepal_width\":3.4,\"petal_length\":1.5,\"petal_width\":0.2,\"species\":\"setosa\"},{\"sepal_length\":5.0,\"sepal_width\":3.5,\"petal_length\":1.3,\"petal_width\":0.3,\"species\":\"setosa\"},{\"sepal_length\":4.5,\"sepal_width\":2.3,\"petal_length\":1.3,\"petal_width\":0.3,\"species\":\"setosa\"},{\"sepal_length\":4.4,\"sepal_width\":3.2,\"petal_length\":1.3,\"petal_width\":0.2,\"species\":\"setosa\"},{\"sepal_length\":5.0,\"sepal_width\":3.5,\"petal_length\":1.6,\"petal_width\":0.6,\"species\":\"setosa\"},{\"sepal_length\":5.1,\"sepal_width\":3.8,\"petal_length\":1.9,\"petal_width\":0.4,\"species\":\"setosa\"},{\"sepal_length\":4.8,\"sepal_width\":3.0,\"petal_length\":1.4,\"petal_width\":0.3,\"species\":\"setosa\"},{\"sepal_length\":5.1,\"sepal_width\":3.8,\"petal_length\":1.6,\"petal_width\":0.2,\"species\":\"setosa\"},{\"sepal_length\":4.6,\"sepal_width\":3.2,\"petal_length\":1.4,\"petal_width\":0.2,\"species\":\"setosa\"},{\"sepal_length\":5.3,\"sepal_width\":3.7,\"petal_length\":1.5,\"petal_width\":0.2,\"species\":\"setosa\"},{\"sepal_length\":5.0,\"sepal_width\":3.3,\"petal_length\":1.4,\"petal_width\":0.2,\"species\":\"setosa\"},{\"sepal_length\":7.0,\"sepal_width\":3.2,\"petal_length\":4.7,\"petal_width\":1.4,\"species\":\"versicolor\"},{\"sepal_length\":6.4,\"sepal_width\":3.2,\"petal_length\":4.5,\"petal_width\":1.5,\"species\":\"versicolor\"},{\"sepal_length\":6.9,\"sepal_width\":3.1,\"petal_length\":4.9,\"petal_width\":1.5,\"species\":\"versicolor\"},{\"sepal_length\":5.5,\"sepal_width\":2.3,\"petal_length\":4.0,\"petal_width\":1.3,\"species\":\"versicolor\"},{\"sepal_length\":6.5,\"sepal_width\":2.8,\"petal_length\":4.6,\"petal_width\":1.5,\"species\":\"versicolor\"},{\"sepal_length\":5.7,\"sepal_width\":2.8,\"petal_length\":4.5,\"petal_width\":1.3,\"species\":\"versicolor\"},{\"sepal_length\":6.3,\"sepal_width\":3.3,\"petal_length\":4.7,\"petal_width\":1.6,\"species\":\"versicolor\"},{\"sepal_length\":4.9,\"sepal_width\":2.4,\"petal_length\":3.3,\"petal_width\":1.0,\"species\":\"versicolor\"},{\"sepal_length\":6.6,\"sepal_width\":2.9,\"petal_length\":4.6,\"petal_width\":1.3,\"species\":\"versicolor\"},{\"sepal_length\":5.2,\"sepal_width\":2.7,\"petal_length\":3.9,\"petal_width\":1.4,\"species\":\"versicolor\"},{\"sepal_length\":5.0,\"sepal_width\":2.0,\"petal_length\":3.5,\"petal_width\":1.0,\"species\":\"versicolor\"},{\"sepal_length\":5.9,\"sepal_width\":3.0,\"petal_length\":4.2,\"petal_width\":1.5,\"species\":\"versicolor\"},{\"sepal_length\":6.0,\"sepal_width\":2.2,\"petal_length\":4.0,\"petal_width\":1.0,\"species\":\"versicolor\"},{\"sepal_length\":6.1,\"sepal_width\":2.9,\"petal_length\":4.7,\"petal_width\":1.4,\"species\":\"versicolor\"},{\"sepal_length\":5.6,\"sepal_width\":2.9,\"petal_length\":3.6,\"petal_width\":1.3,\"species\":\"versicolor\"},{\"sepal_length\":6.7,\"sepal_width\":3.1,\"petal_length\":4.4,\"petal_width\":1.4,\"species\":\"versicolor\"},{\"sepal_length\":5.6,\"sepal_width\":3.0,\"petal_length\":4.5,\"petal_width\":1.5,\"species\":\"versicolor\"},{\"sepal_length\":5.8,\"sepal_width\":2.7,\"petal_length\":4.1,\"petal_width\":1.0,\"species\":\"versicolor\"},{\"sepal_length\":6.2,\"sepal_width\":2.2,\"petal_length\":4.5,\"petal_width\":1.5,\"species\":\"versicolor\"},{\"sepal_length\":5.6,\"sepal_width\":2.5,\"petal_length\":3.9,\"petal_width\":1.1,\"species\":\"versicolor\"},{\"sepal_length\":5.9,\"sepal_width\":3.2,\"petal_length\":4.8,\"petal_width\":1.8,\"species\":\"versicolor\"},{\"sepal_length\":6.1,\"sepal_width\":2.8,\"petal_length\":4.0,\"petal_width\":1.3,\"species\":\"versicolor\"},{\"sepal_length\":6.3,\"sepal_width\":2.5,\"petal_length\":4.9,\"petal_width\":1.5,\"species\":\"versicolor\"},{\"sepal_length\":6.1,\"sepal_width\":2.8,\"petal_length\":4.7,\"petal_width\":1.2,\"species\":\"versicolor\"},{\"sepal_length\":6.4,\"sepal_width\":2.9,\"petal_length\":4.3,\"petal_width\":1.3,\"species\":\"versicolor\"},{\"sepal_length\":6.6,\"sepal_width\":3.0,\"petal_length\":4.4,\"petal_width\":1.4,\"species\":\"versicolor\"},{\"sepal_length\":6.8,\"sepal_width\":2.8,\"petal_length\":4.8,\"petal_width\":1.4,\"species\":\"versicolor\"},{\"sepal_length\":6.7,\"sepal_width\":3.0,\"petal_length\":5.0,\"petal_width\":1.7,\"species\":\"versicolor\"},{\"sepal_length\":6.0,\"sepal_width\":2.9,\"petal_length\":4.5,\"petal_width\":1.5,\"species\":\"versicolor\"},{\"sepal_length\":5.7,\"sepal_width\":2.6,\"petal_length\":3.5,\"petal_width\":1.0,\"species\":\"versicolor\"},{\"sepal_length\":5.5,\"sepal_width\":2.4,\"petal_length\":3.8,\"petal_width\":1.1,\"species\":\"versicolor\"},{\"sepal_length\":5.5,\"sepal_width\":2.4,\"petal_length\":3.7,\"petal_width\":1.0,\"species\":\"versicolor\"},{\"sepal_length\":5.8,\"sepal_width\":2.7,\"petal_length\":3.9,\"petal_width\":1.2,\"species\":\"versicolor\"},{\"sepal_length\":6.0,\"sepal_width\":2.7,\"petal_length\":5.1,\"petal_width\":1.6,\"species\":\"versicolor\"},{\"sepal_length\":5.4,\"sepal_width\":3.0,\"petal_length\":4.5,\"petal_width\":1.5,\"species\":\"versicolor\"},{\"sepal_length\":6.0,\"sepal_width\":3.4,\"petal_length\":4.5,\"petal_width\":1.6,\"species\":\"versicolor\"},{\"sepal_length\":6.7,\"sepal_width\":3.1,\"petal_length\":4.7,\"petal_width\":1.5,\"species\":\"versicolor\"},{\"sepal_length\":6.3,\"sepal_width\":2.3,\"petal_length\":4.4,\"petal_width\":1.3,\"species\":\"versicolor\"},{\"sepal_length\":5.6,\"sepal_width\":3.0,\"petal_length\":4.1,\"petal_width\":1.3,\"species\":\"versicolor\"},{\"sepal_length\":5.5,\"sepal_width\":2.5,\"petal_length\":4.0,\"petal_width\":1.3,\"species\":\"versicolor\"},{\"sepal_length\":5.5,\"sepal_width\":2.6,\"petal_length\":4.4,\"petal_width\":1.2,\"species\":\"versicolor\"},{\"sepal_length\":6.1,\"sepal_width\":3.0,\"petal_length\":4.6,\"petal_width\":1.4,\"species\":\"versicolor\"},{\"sepal_length\":5.8,\"sepal_width\":2.6,\"petal_length\":4.0,\"petal_width\":1.2,\"species\":\"versicolor\"},{\"sepal_length\":5.0,\"sepal_width\":2.3,\"petal_length\":3.3,\"petal_width\":1.0,\"species\":\"versicolor\"},{\"sepal_length\":5.6,\"sepal_width\":2.7,\"petal_length\":4.2,\"petal_width\":1.3,\"species\":\"versicolor\"},{\"sepal_length\":5.7,\"sepal_width\":3.0,\"petal_length\":4.2,\"petal_width\":1.2,\"species\":\"versicolor\"},{\"sepal_length\":5.7,\"sepal_width\":2.9,\"petal_length\":4.2,\"petal_width\":1.3,\"species\":\"versicolor\"},{\"sepal_length\":6.2,\"sepal_width\":2.9,\"petal_length\":4.3,\"petal_width\":1.3,\"species\":\"versicolor\"},{\"sepal_length\":5.1,\"sepal_width\":2.5,\"petal_length\":3.0,\"petal_width\":1.1,\"species\":\"versicolor\"},{\"sepal_length\":5.7,\"sepal_width\":2.8,\"petal_length\":4.1,\"petal_width\":1.3,\"species\":\"versicolor\"},{\"sepal_length\":6.3,\"sepal_width\":3.3,\"petal_length\":6.0,\"petal_width\":2.5,\"species\":\"virginica\"},{\"sepal_length\":5.8,\"sepal_width\":2.7,\"petal_length\":5.1,\"petal_width\":1.9,\"species\":\"virginica\"},{\"sepal_length\":7.1,\"sepal_width\":3.0,\"petal_length\":5.9,\"petal_width\":2.1,\"species\":\"virginica\"},{\"sepal_length\":6.3,\"sepal_width\":2.9,\"petal_length\":5.6,\"petal_width\":1.8,\"species\":\"virginica\"},{\"sepal_length\":6.5,\"sepal_width\":3.0,\"petal_length\":5.8,\"petal_width\":2.2,\"species\":\"virginica\"},{\"sepal_length\":7.6,\"sepal_width\":3.0,\"petal_length\":6.6,\"petal_width\":2.1,\"species\":\"virginica\"},{\"sepal_length\":4.9,\"sepal_width\":2.5,\"petal_length\":4.5,\"petal_width\":1.7,\"species\":\"virginica\"},{\"sepal_length\":7.3,\"sepal_width\":2.9,\"petal_length\":6.3,\"petal_width\":1.8,\"species\":\"virginica\"},{\"sepal_length\":6.7,\"sepal_width\":2.5,\"petal_length\":5.8,\"petal_width\":1.8,\"species\":\"virginica\"},{\"sepal_length\":7.2,\"sepal_width\":3.6,\"petal_length\":6.1,\"petal_width\":2.5,\"species\":\"virginica\"},{\"sepal_length\":6.5,\"sepal_width\":3.2,\"petal_length\":5.1,\"petal_width\":2.0,\"species\":\"virginica\"},{\"sepal_length\":6.4,\"sepal_width\":2.7,\"petal_length\":5.3,\"petal_width\":1.9,\"species\":\"virginica\"},{\"sepal_length\":6.8,\"sepal_width\":3.0,\"petal_length\":5.5,\"petal_width\":2.1,\"species\":\"virginica\"},{\"sepal_length\":5.7,\"sepal_width\":2.5,\"petal_length\":5.0,\"petal_width\":2.0,\"species\":\"virginica\"},{\"sepal_length\":5.8,\"sepal_width\":2.8,\"petal_length\":5.1,\"petal_width\":2.4,\"species\":\"virginica\"},{\"sepal_length\":6.4,\"sepal_width\":3.2,\"petal_length\":5.3,\"petal_width\":2.3,\"species\":\"virginica\"},{\"sepal_length\":6.5,\"sepal_width\":3.0,\"petal_length\":5.5,\"petal_width\":1.8,\"species\":\"virginica\"},{\"sepal_length\":7.7,\"sepal_width\":3.8,\"petal_length\":6.7,\"petal_width\":2.2,\"species\":\"virginica\"},{\"sepal_length\":7.7,\"sepal_width\":2.6,\"petal_length\":6.9,\"petal_width\":2.3,\"species\":\"virginica\"},{\"sepal_length\":6.0,\"sepal_width\":2.2,\"petal_length\":5.0,\"petal_width\":1.5,\"species\":\"virginica\"},{\"sepal_length\":6.9,\"sepal_width\":3.2,\"petal_length\":5.7,\"petal_width\":2.3,\"species\":\"virginica\"},{\"sepal_length\":5.6,\"sepal_width\":2.8,\"petal_length\":4.9,\"petal_width\":2.0,\"species\":\"virginica\"},{\"sepal_length\":7.7,\"sepal_width\":2.8,\"petal_length\":6.7,\"petal_width\":2.0,\"species\":\"virginica\"},{\"sepal_length\":6.3,\"sepal_width\":2.7,\"petal_length\":4.9,\"petal_width\":1.8,\"species\":\"virginica\"},{\"sepal_length\":6.7,\"sepal_width\":3.3,\"petal_length\":5.7,\"petal_width\":2.1,\"species\":\"virginica\"},{\"sepal_length\":7.2,\"sepal_width\":3.2,\"petal_length\":6.0,\"petal_width\":1.8,\"species\":\"virginica\"},{\"sepal_length\":6.2,\"sepal_width\":2.8,\"petal_length\":4.8,\"petal_width\":1.8,\"species\":\"virginica\"},{\"sepal_length\":6.1,\"sepal_width\":3.0,\"petal_length\":4.9,\"petal_width\":1.8,\"species\":\"virginica\"},{\"sepal_length\":6.4,\"sepal_width\":2.8,\"petal_length\":5.6,\"petal_width\":2.1,\"species\":\"virginica\"},{\"sepal_length\":7.2,\"sepal_width\":3.0,\"petal_length\":5.8,\"petal_width\":1.6,\"species\":\"virginica\"},{\"sepal_length\":7.4,\"sepal_width\":2.8,\"petal_length\":6.1,\"petal_width\":1.9,\"species\":\"virginica\"},{\"sepal_length\":7.9,\"sepal_width\":3.8,\"petal_length\":6.4,\"petal_width\":2.0,\"species\":\"virginica\"},{\"sepal_length\":6.4,\"sepal_width\":2.8,\"petal_length\":5.6,\"petal_width\":2.2,\"species\":\"virginica\"},{\"sepal_length\":6.3,\"sepal_width\":2.8,\"petal_length\":5.1,\"petal_width\":1.5,\"species\":\"virginica\"},{\"sepal_length\":6.1,\"sepal_width\":2.6,\"petal_length\":5.6,\"petal_width\":1.4,\"species\":\"virginica\"},{\"sepal_length\":7.7,\"sepal_width\":3.0,\"petal_length\":6.1,\"petal_width\":2.3,\"species\":\"virginica\"},{\"sepal_length\":6.3,\"sepal_width\":3.4,\"petal_length\":5.6,\"petal_width\":2.4,\"species\":\"virginica\"},{\"sepal_length\":6.4,\"sepal_width\":3.1,\"petal_length\":5.5,\"petal_width\":1.8,\"species\":\"virginica\"},{\"sepal_length\":6.0,\"sepal_width\":3.0,\"petal_length\":4.8,\"petal_width\":1.8,\"species\":\"virginica\"},{\"sepal_length\":6.9,\"sepal_width\":3.1,\"petal_length\":5.4,\"petal_width\":2.1,\"species\":\"virginica\"},{\"sepal_length\":6.7,\"sepal_width\":3.1,\"petal_length\":5.6,\"petal_width\":2.4,\"species\":\"virginica\"},{\"sepal_length\":6.9,\"sepal_width\":3.1,\"petal_length\":5.1,\"petal_width\":2.3,\"species\":\"virginica\"},{\"sepal_length\":5.8,\"sepal_width\":2.7,\"petal_length\":5.1,\"petal_width\":1.9,\"species\":\"virginica\"},{\"sepal_length\":6.8,\"sepal_width\":3.2,\"petal_length\":5.9,\"petal_width\":2.3,\"species\":\"virginica\"},{\"sepal_length\":6.7,\"sepal_width\":3.3,\"petal_length\":5.7,\"petal_width\":2.5,\"species\":\"virginica\"},{\"sepal_length\":6.7,\"sepal_width\":3.0,\"petal_length\":5.2,\"petal_width\":2.3,\"species\":\"virginica\"},{\"sepal_length\":6.3,\"sepal_width\":2.5,\"petal_length\":5.0,\"petal_width\":1.9,\"species\":\"virginica\"},{\"sepal_length\":6.5,\"sepal_width\":3.0,\"petal_length\":5.2,\"petal_width\":2.0,\"species\":\"virginica\"},{\"sepal_length\":6.2,\"sepal_width\":3.4,\"petal_length\":5.4,\"petal_width\":2.3,\"species\":\"virginica\"},{\"sepal_length\":5.9,\"sepal_width\":3.0,\"petal_length\":5.1,\"petal_width\":1.8,\"species\":\"virginica\"}]},\"extension\":[]}\n",
        "        Nyaplot.core.parse(model, '#vis-1e717cd3-8aff-44a9-a326-bbcbd1509877');\n",
        "    };\n",
        "    if(window['Nyaplot']==undefined){\n",
        "        window.addEventListener('load_nyaplot', render, false);\n",
        "\treturn;\n",
        "    } else {\n",
        "       render();\n",
        "    }\n",
        "})();\n",
        "</script>\n"
       ],
       "metadata": {},
       "output_type": "pyout",
       "prompt_number": 10,
       "text": [
        "#<Nyaplot::Plot:0xb952e860 @properties={:diagrams=>[#<Nyaplot::Diagram:0xb952d794 @properties={:type=>:scatter, :options=>{:x=>:sepal_length, :y=>:petal_length, :color=>[\"rgb(127,201,127)\", \"rgb(190,174,212)\", \"rgb(253,192,134)\", \"rgb(255,255,153)\", \"rgb(56,108,176)\", \"rgb(240,2,127)\", \"rgb(191,91,23)\", \"rgb(102,102,102)\"], :fill_by=>:species}, :data=>\"57a65d78-ecc2-4842-a37d-69ad38a8f9d1\"}, @xrange=[4.3, 7.9], @yrange=[1.0, 6.9]>], :options=>{:x_label=>:sepal_length, :y_label=>:petal_length, :zoom=>true, :width=>700, :xrange=>[4.3, 7.9], :yrange=>[1.0, 6.9]}}>"
       ]
      }
     ],
     "prompt_number": 10
    },
    {
     "cell_type": "code",
     "collapsed": false,
     "input": [
      "require 'statsample'"
     ],
     "language": "python",
     "metadata": {},
     "outputs": [
      {
       "metadata": {},
       "output_type": "pyout",
       "prompt_number": 11,
       "text": [
        "false"
       ]
      }
     ],
     "prompt_number": 11
    },
    {
     "cell_type": "markdown",
     "metadata": {},
     "source": [
      "Then draw a regression line using `Statsample::Regression`."
     ]
    },
    {
     "cell_type": "code",
     "collapsed": false,
     "input": [
      "lr = Statsample::Regression.simple(df[:sepal_length], df[:petal_length])\n",
      "puts lr.summary\n",
      "a, b = lr.a, lr.b"
     ],
     "language": "python",
     "metadata": {},
     "outputs": [
      {
       "output_type": "stream",
       "stream": "stdout",
       "text": [
        "= Regression of sepal_length over petal_length\n",
        "  Table 2\n",
        "+----------+--------+\n",
        "| Variable | Value  |\n",
        "+----------+--------+\n",
        "| r        | 0.872  |\n",
        "| r^2      | 0.760  |\n",
        "| a        | -7.095 |\n",
        "| b        | 1.858  |\n",
        "| s.e      | 0.867  |\n",
        "+----------+--------+\n",
        "\n",
        "\n"
       ]
      },
      {
       "metadata": {},
       "output_type": "pyout",
       "prompt_number": 13,
       "text": [
        "[-7.095381478279314, 1.8575096654214456]"
       ]
      }
     ],
     "prompt_number": 13
    },
    {
     "cell_type": "code",
     "collapsed": false,
     "input": [
      "x = (df[:sepal_length].min.round..df[:sepal_length].max.round).to_a\n",
      "y = x.map{|v| b*v+a}\n",
      "plot.add(:line, x, y)\n",
      "plot"
     ],
     "language": "python",
     "metadata": {},
     "outputs": [
      {
       "html": [
        "<div id='vis-25143f7e-4fcf-4e51-9513-86adf5a0d290'></div>\n",
        "<script>\n",
        "(function(){\n",
        "    var render = function(){\n",
        "        var model = {\"panes\":[{\"diagrams\":[{\"type\":\"scatter\",\"options\":{\"x\":\"sepal_length\",\"y\":\"petal_length\",\"color\":[\"rgb(127,201,127)\",\"rgb(190,174,212)\",\"rgb(253,192,134)\",\"rgb(255,255,153)\",\"rgb(56,108,176)\",\"rgb(240,2,127)\",\"rgb(191,91,23)\",\"rgb(102,102,102)\"],\"fill_by\":\"species\"},\"data\":\"57a65d78-ecc2-4842-a37d-69ad38a8f9d1\"},{\"type\":\"line\",\"options\":{\"x\":\"data0\",\"y\":\"data1\"},\"data\":\"4b5665e9-adc5-4127-af0f-931653704356\"}],\"options\":{\"x_label\":\"sepal_length\",\"y_label\":\"petal_length\",\"zoom\":true,\"width\":700,\"xrange\":[4.3,7.9],\"yrange\":[1.0,6.9]}}],\"data\":{\"57a65d78-ecc2-4842-a37d-69ad38a8f9d1\":[{\"sepal_length\":5.1,\"sepal_width\":3.5,\"petal_length\":1.4,\"petal_width\":0.2,\"species\":\"setosa\"},{\"sepal_length\":4.9,\"sepal_width\":3.0,\"petal_length\":1.4,\"petal_width\":0.2,\"species\":\"setosa\"},{\"sepal_length\":4.7,\"sepal_width\":3.2,\"petal_length\":1.3,\"petal_width\":0.2,\"species\":\"setosa\"},{\"sepal_length\":4.6,\"sepal_width\":3.1,\"petal_length\":1.5,\"petal_width\":0.2,\"species\":\"setosa\"},{\"sepal_length\":5.0,\"sepal_width\":3.6,\"petal_length\":1.4,\"petal_width\":0.2,\"species\":\"setosa\"},{\"sepal_length\":5.4,\"sepal_width\":3.9,\"petal_length\":1.7,\"petal_width\":0.4,\"species\":\"setosa\"},{\"sepal_length\":4.6,\"sepal_width\":3.4,\"petal_length\":1.4,\"petal_width\":0.3,\"species\":\"setosa\"},{\"sepal_length\":5.0,\"sepal_width\":3.4,\"petal_length\":1.5,\"petal_width\":0.2,\"species\":\"setosa\"},{\"sepal_length\":4.4,\"sepal_width\":2.9,\"petal_length\":1.4,\"petal_width\":0.2,\"species\":\"setosa\"},{\"sepal_length\":4.9,\"sepal_width\":3.1,\"petal_length\":1.5,\"petal_width\":0.1,\"species\":\"setosa\"},{\"sepal_length\":5.4,\"sepal_width\":3.7,\"petal_length\":1.5,\"petal_width\":0.2,\"species\":\"setosa\"},{\"sepal_length\":4.8,\"sepal_width\":3.4,\"petal_length\":1.6,\"petal_width\":0.2,\"species\":\"setosa\"},{\"sepal_length\":4.8,\"sepal_width\":3.0,\"petal_length\":1.4,\"petal_width\":0.1,\"species\":\"setosa\"},{\"sepal_length\":4.3,\"sepal_width\":3.0,\"petal_length\":1.1,\"petal_width\":0.1,\"species\":\"setosa\"},{\"sepal_length\":5.8,\"sepal_width\":4.0,\"petal_length\":1.2,\"petal_width\":0.2,\"species\":\"setosa\"},{\"sepal_length\":5.7,\"sepal_width\":4.4,\"petal_length\":1.5,\"petal_width\":0.4,\"species\":\"setosa\"},{\"sepal_length\":5.4,\"sepal_width\":3.9,\"petal_length\":1.3,\"petal_width\":0.4,\"species\":\"setosa\"},{\"sepal_length\":5.1,\"sepal_width\":3.5,\"petal_length\":1.4,\"petal_width\":0.3,\"species\":\"setosa\"},{\"sepal_length\":5.7,\"sepal_width\":3.8,\"petal_length\":1.7,\"petal_width\":0.3,\"species\":\"setosa\"},{\"sepal_length\":5.1,\"sepal_width\":3.8,\"petal_length\":1.5,\"petal_width\":0.3,\"species\":\"setosa\"},{\"sepal_length\":5.4,\"sepal_width\":3.4,\"petal_length\":1.7,\"petal_width\":0.2,\"species\":\"setosa\"},{\"sepal_length\":5.1,\"sepal_width\":3.7,\"petal_length\":1.5,\"petal_width\":0.4,\"species\":\"setosa\"},{\"sepal_length\":4.6,\"sepal_width\":3.6,\"petal_length\":1.0,\"petal_width\":0.2,\"species\":\"setosa\"},{\"sepal_length\":5.1,\"sepal_width\":3.3,\"petal_length\":1.7,\"petal_width\":0.5,\"species\":\"setosa\"},{\"sepal_length\":4.8,\"sepal_width\":3.4,\"petal_length\":1.9,\"petal_width\":0.2,\"species\":\"setosa\"},{\"sepal_length\":5.0,\"sepal_width\":3.0,\"petal_length\":1.6,\"petal_width\":0.2,\"species\":\"setosa\"},{\"sepal_length\":5.0,\"sepal_width\":3.4,\"petal_length\":1.6,\"petal_width\":0.4,\"species\":\"setosa\"},{\"sepal_length\":5.2,\"sepal_width\":3.5,\"petal_length\":1.5,\"petal_width\":0.2,\"species\":\"setosa\"},{\"sepal_length\":5.2,\"sepal_width\":3.4,\"petal_length\":1.4,\"petal_width\":0.2,\"species\":\"setosa\"},{\"sepal_length\":4.7,\"sepal_width\":3.2,\"petal_length\":1.6,\"petal_width\":0.2,\"species\":\"setosa\"},{\"sepal_length\":4.8,\"sepal_width\":3.1,\"petal_length\":1.6,\"petal_width\":0.2,\"species\":\"setosa\"},{\"sepal_length\":5.4,\"sepal_width\":3.4,\"petal_length\":1.5,\"petal_width\":0.4,\"species\":\"setosa\"},{\"sepal_length\":5.2,\"sepal_width\":4.1,\"petal_length\":1.5,\"petal_width\":0.1,\"species\":\"setosa\"},{\"sepal_length\":5.5,\"sepal_width\":4.2,\"petal_length\":1.4,\"petal_width\":0.2,\"species\":\"setosa\"},{\"sepal_length\":4.9,\"sepal_width\":3.1,\"petal_length\":1.5,\"petal_width\":0.1,\"species\":\"setosa\"},{\"sepal_length\":5.0,\"sepal_width\":3.2,\"petal_length\":1.2,\"petal_width\":0.2,\"species\":\"setosa\"},{\"sepal_length\":5.5,\"sepal_width\":3.5,\"petal_length\":1.3,\"petal_width\":0.2,\"species\":\"setosa\"},{\"sepal_length\":4.9,\"sepal_width\":3.1,\"petal_length\":1.5,\"petal_width\":0.1,\"species\":\"setosa\"},{\"sepal_length\":4.4,\"sepal_width\":3.0,\"petal_length\":1.3,\"petal_width\":0.2,\"species\":\"setosa\"},{\"sepal_length\":5.1,\"sepal_width\":3.4,\"petal_length\":1.5,\"petal_width\":0.2,\"species\":\"setosa\"},{\"sepal_length\":5.0,\"sepal_width\":3.5,\"petal_length\":1.3,\"petal_width\":0.3,\"species\":\"setosa\"},{\"sepal_length\":4.5,\"sepal_width\":2.3,\"petal_length\":1.3,\"petal_width\":0.3,\"species\":\"setosa\"},{\"sepal_length\":4.4,\"sepal_width\":3.2,\"petal_length\":1.3,\"petal_width\":0.2,\"species\":\"setosa\"},{\"sepal_length\":5.0,\"sepal_width\":3.5,\"petal_length\":1.6,\"petal_width\":0.6,\"species\":\"setosa\"},{\"sepal_length\":5.1,\"sepal_width\":3.8,\"petal_length\":1.9,\"petal_width\":0.4,\"species\":\"setosa\"},{\"sepal_length\":4.8,\"sepal_width\":3.0,\"petal_length\":1.4,\"petal_width\":0.3,\"species\":\"setosa\"},{\"sepal_length\":5.1,\"sepal_width\":3.8,\"petal_length\":1.6,\"petal_width\":0.2,\"species\":\"setosa\"},{\"sepal_length\":4.6,\"sepal_width\":3.2,\"petal_length\":1.4,\"petal_width\":0.2,\"species\":\"setosa\"},{\"sepal_length\":5.3,\"sepal_width\":3.7,\"petal_length\":1.5,\"petal_width\":0.2,\"species\":\"setosa\"},{\"sepal_length\":5.0,\"sepal_width\":3.3,\"petal_length\":1.4,\"petal_width\":0.2,\"species\":\"setosa\"},{\"sepal_length\":7.0,\"sepal_width\":3.2,\"petal_length\":4.7,\"petal_width\":1.4,\"species\":\"versicolor\"},{\"sepal_length\":6.4,\"sepal_width\":3.2,\"petal_length\":4.5,\"petal_width\":1.5,\"species\":\"versicolor\"},{\"sepal_length\":6.9,\"sepal_width\":3.1,\"petal_length\":4.9,\"petal_width\":1.5,\"species\":\"versicolor\"},{\"sepal_length\":5.5,\"sepal_width\":2.3,\"petal_length\":4.0,\"petal_width\":1.3,\"species\":\"versicolor\"},{\"sepal_length\":6.5,\"sepal_width\":2.8,\"petal_length\":4.6,\"petal_width\":1.5,\"species\":\"versicolor\"},{\"sepal_length\":5.7,\"sepal_width\":2.8,\"petal_length\":4.5,\"petal_width\":1.3,\"species\":\"versicolor\"},{\"sepal_length\":6.3,\"sepal_width\":3.3,\"petal_length\":4.7,\"petal_width\":1.6,\"species\":\"versicolor\"},{\"sepal_length\":4.9,\"sepal_width\":2.4,\"petal_length\":3.3,\"petal_width\":1.0,\"species\":\"versicolor\"},{\"sepal_length\":6.6,\"sepal_width\":2.9,\"petal_length\":4.6,\"petal_width\":1.3,\"species\":\"versicolor\"},{\"sepal_length\":5.2,\"sepal_width\":2.7,\"petal_length\":3.9,\"petal_width\":1.4,\"species\":\"versicolor\"},{\"sepal_length\":5.0,\"sepal_width\":2.0,\"petal_length\":3.5,\"petal_width\":1.0,\"species\":\"versicolor\"},{\"sepal_length\":5.9,\"sepal_width\":3.0,\"petal_length\":4.2,\"petal_width\":1.5,\"species\":\"versicolor\"},{\"sepal_length\":6.0,\"sepal_width\":2.2,\"petal_length\":4.0,\"petal_width\":1.0,\"species\":\"versicolor\"},{\"sepal_length\":6.1,\"sepal_width\":2.9,\"petal_length\":4.7,\"petal_width\":1.4,\"species\":\"versicolor\"},{\"sepal_length\":5.6,\"sepal_width\":2.9,\"petal_length\":3.6,\"petal_width\":1.3,\"species\":\"versicolor\"},{\"sepal_length\":6.7,\"sepal_width\":3.1,\"petal_length\":4.4,\"petal_width\":1.4,\"species\":\"versicolor\"},{\"sepal_length\":5.6,\"sepal_width\":3.0,\"petal_length\":4.5,\"petal_width\":1.5,\"species\":\"versicolor\"},{\"sepal_length\":5.8,\"sepal_width\":2.7,\"petal_length\":4.1,\"petal_width\":1.0,\"species\":\"versicolor\"},{\"sepal_length\":6.2,\"sepal_width\":2.2,\"petal_length\":4.5,\"petal_width\":1.5,\"species\":\"versicolor\"},{\"sepal_length\":5.6,\"sepal_width\":2.5,\"petal_length\":3.9,\"petal_width\":1.1,\"species\":\"versicolor\"},{\"sepal_length\":5.9,\"sepal_width\":3.2,\"petal_length\":4.8,\"petal_width\":1.8,\"species\":\"versicolor\"},{\"sepal_length\":6.1,\"sepal_width\":2.8,\"petal_length\":4.0,\"petal_width\":1.3,\"species\":\"versicolor\"},{\"sepal_length\":6.3,\"sepal_width\":2.5,\"petal_length\":4.9,\"petal_width\":1.5,\"species\":\"versicolor\"},{\"sepal_length\":6.1,\"sepal_width\":2.8,\"petal_length\":4.7,\"petal_width\":1.2,\"species\":\"versicolor\"},{\"sepal_length\":6.4,\"sepal_width\":2.9,\"petal_length\":4.3,\"petal_width\":1.3,\"species\":\"versicolor\"},{\"sepal_length\":6.6,\"sepal_width\":3.0,\"petal_length\":4.4,\"petal_width\":1.4,\"species\":\"versicolor\"},{\"sepal_length\":6.8,\"sepal_width\":2.8,\"petal_length\":4.8,\"petal_width\":1.4,\"species\":\"versicolor\"},{\"sepal_length\":6.7,\"sepal_width\":3.0,\"petal_length\":5.0,\"petal_width\":1.7,\"species\":\"versicolor\"},{\"sepal_length\":6.0,\"sepal_width\":2.9,\"petal_length\":4.5,\"petal_width\":1.5,\"species\":\"versicolor\"},{\"sepal_length\":5.7,\"sepal_width\":2.6,\"petal_length\":3.5,\"petal_width\":1.0,\"species\":\"versicolor\"},{\"sepal_length\":5.5,\"sepal_width\":2.4,\"petal_length\":3.8,\"petal_width\":1.1,\"species\":\"versicolor\"},{\"sepal_length\":5.5,\"sepal_width\":2.4,\"petal_length\":3.7,\"petal_width\":1.0,\"species\":\"versicolor\"},{\"sepal_length\":5.8,\"sepal_width\":2.7,\"petal_length\":3.9,\"petal_width\":1.2,\"species\":\"versicolor\"},{\"sepal_length\":6.0,\"sepal_width\":2.7,\"petal_length\":5.1,\"petal_width\":1.6,\"species\":\"versicolor\"},{\"sepal_length\":5.4,\"sepal_width\":3.0,\"petal_length\":4.5,\"petal_width\":1.5,\"species\":\"versicolor\"},{\"sepal_length\":6.0,\"sepal_width\":3.4,\"petal_length\":4.5,\"petal_width\":1.6,\"species\":\"versicolor\"},{\"sepal_length\":6.7,\"sepal_width\":3.1,\"petal_length\":4.7,\"petal_width\":1.5,\"species\":\"versicolor\"},{\"sepal_length\":6.3,\"sepal_width\":2.3,\"petal_length\":4.4,\"petal_width\":1.3,\"species\":\"versicolor\"},{\"sepal_length\":5.6,\"sepal_width\":3.0,\"petal_length\":4.1,\"petal_width\":1.3,\"species\":\"versicolor\"},{\"sepal_length\":5.5,\"sepal_width\":2.5,\"petal_length\":4.0,\"petal_width\":1.3,\"species\":\"versicolor\"},{\"sepal_length\":5.5,\"sepal_width\":2.6,\"petal_length\":4.4,\"petal_width\":1.2,\"species\":\"versicolor\"},{\"sepal_length\":6.1,\"sepal_width\":3.0,\"petal_length\":4.6,\"petal_width\":1.4,\"species\":\"versicolor\"},{\"sepal_length\":5.8,\"sepal_width\":2.6,\"petal_length\":4.0,\"petal_width\":1.2,\"species\":\"versicolor\"},{\"sepal_length\":5.0,\"sepal_width\":2.3,\"petal_length\":3.3,\"petal_width\":1.0,\"species\":\"versicolor\"},{\"sepal_length\":5.6,\"sepal_width\":2.7,\"petal_length\":4.2,\"petal_width\":1.3,\"species\":\"versicolor\"},{\"sepal_length\":5.7,\"sepal_width\":3.0,\"petal_length\":4.2,\"petal_width\":1.2,\"species\":\"versicolor\"},{\"sepal_length\":5.7,\"sepal_width\":2.9,\"petal_length\":4.2,\"petal_width\":1.3,\"species\":\"versicolor\"},{\"sepal_length\":6.2,\"sepal_width\":2.9,\"petal_length\":4.3,\"petal_width\":1.3,\"species\":\"versicolor\"},{\"sepal_length\":5.1,\"sepal_width\":2.5,\"petal_length\":3.0,\"petal_width\":1.1,\"species\":\"versicolor\"},{\"sepal_length\":5.7,\"sepal_width\":2.8,\"petal_length\":4.1,\"petal_width\":1.3,\"species\":\"versicolor\"},{\"sepal_length\":6.3,\"sepal_width\":3.3,\"petal_length\":6.0,\"petal_width\":2.5,\"species\":\"virginica\"},{\"sepal_length\":5.8,\"sepal_width\":2.7,\"petal_length\":5.1,\"petal_width\":1.9,\"species\":\"virginica\"},{\"sepal_length\":7.1,\"sepal_width\":3.0,\"petal_length\":5.9,\"petal_width\":2.1,\"species\":\"virginica\"},{\"sepal_length\":6.3,\"sepal_width\":2.9,\"petal_length\":5.6,\"petal_width\":1.8,\"species\":\"virginica\"},{\"sepal_length\":6.5,\"sepal_width\":3.0,\"petal_length\":5.8,\"petal_width\":2.2,\"species\":\"virginica\"},{\"sepal_length\":7.6,\"sepal_width\":3.0,\"petal_length\":6.6,\"petal_width\":2.1,\"species\":\"virginica\"},{\"sepal_length\":4.9,\"sepal_width\":2.5,\"petal_length\":4.5,\"petal_width\":1.7,\"species\":\"virginica\"},{\"sepal_length\":7.3,\"sepal_width\":2.9,\"petal_length\":6.3,\"petal_width\":1.8,\"species\":\"virginica\"},{\"sepal_length\":6.7,\"sepal_width\":2.5,\"petal_length\":5.8,\"petal_width\":1.8,\"species\":\"virginica\"},{\"sepal_length\":7.2,\"sepal_width\":3.6,\"petal_length\":6.1,\"petal_width\":2.5,\"species\":\"virginica\"},{\"sepal_length\":6.5,\"sepal_width\":3.2,\"petal_length\":5.1,\"petal_width\":2.0,\"species\":\"virginica\"},{\"sepal_length\":6.4,\"sepal_width\":2.7,\"petal_length\":5.3,\"petal_width\":1.9,\"species\":\"virginica\"},{\"sepal_length\":6.8,\"sepal_width\":3.0,\"petal_length\":5.5,\"petal_width\":2.1,\"species\":\"virginica\"},{\"sepal_length\":5.7,\"sepal_width\":2.5,\"petal_length\":5.0,\"petal_width\":2.0,\"species\":\"virginica\"},{\"sepal_length\":5.8,\"sepal_width\":2.8,\"petal_length\":5.1,\"petal_width\":2.4,\"species\":\"virginica\"},{\"sepal_length\":6.4,\"sepal_width\":3.2,\"petal_length\":5.3,\"petal_width\":2.3,\"species\":\"virginica\"},{\"sepal_length\":6.5,\"sepal_width\":3.0,\"petal_length\":5.5,\"petal_width\":1.8,\"species\":\"virginica\"},{\"sepal_length\":7.7,\"sepal_width\":3.8,\"petal_length\":6.7,\"petal_width\":2.2,\"species\":\"virginica\"},{\"sepal_length\":7.7,\"sepal_width\":2.6,\"petal_length\":6.9,\"petal_width\":2.3,\"species\":\"virginica\"},{\"sepal_length\":6.0,\"sepal_width\":2.2,\"petal_length\":5.0,\"petal_width\":1.5,\"species\":\"virginica\"},{\"sepal_length\":6.9,\"sepal_width\":3.2,\"petal_length\":5.7,\"petal_width\":2.3,\"species\":\"virginica\"},{\"sepal_length\":5.6,\"sepal_width\":2.8,\"petal_length\":4.9,\"petal_width\":2.0,\"species\":\"virginica\"},{\"sepal_length\":7.7,\"sepal_width\":2.8,\"petal_length\":6.7,\"petal_width\":2.0,\"species\":\"virginica\"},{\"sepal_length\":6.3,\"sepal_width\":2.7,\"petal_length\":4.9,\"petal_width\":1.8,\"species\":\"virginica\"},{\"sepal_length\":6.7,\"sepal_width\":3.3,\"petal_length\":5.7,\"petal_width\":2.1,\"species\":\"virginica\"},{\"sepal_length\":7.2,\"sepal_width\":3.2,\"petal_length\":6.0,\"petal_width\":1.8,\"species\":\"virginica\"},{\"sepal_length\":6.2,\"sepal_width\":2.8,\"petal_length\":4.8,\"petal_width\":1.8,\"species\":\"virginica\"},{\"sepal_length\":6.1,\"sepal_width\":3.0,\"petal_length\":4.9,\"petal_width\":1.8,\"species\":\"virginica\"},{\"sepal_length\":6.4,\"sepal_width\":2.8,\"petal_length\":5.6,\"petal_width\":2.1,\"species\":\"virginica\"},{\"sepal_length\":7.2,\"sepal_width\":3.0,\"petal_length\":5.8,\"petal_width\":1.6,\"species\":\"virginica\"},{\"sepal_length\":7.4,\"sepal_width\":2.8,\"petal_length\":6.1,\"petal_width\":1.9,\"species\":\"virginica\"},{\"sepal_length\":7.9,\"sepal_width\":3.8,\"petal_length\":6.4,\"petal_width\":2.0,\"species\":\"virginica\"},{\"sepal_length\":6.4,\"sepal_width\":2.8,\"petal_length\":5.6,\"petal_width\":2.2,\"species\":\"virginica\"},{\"sepal_length\":6.3,\"sepal_width\":2.8,\"petal_length\":5.1,\"petal_width\":1.5,\"species\":\"virginica\"},{\"sepal_length\":6.1,\"sepal_width\":2.6,\"petal_length\":5.6,\"petal_width\":1.4,\"species\":\"virginica\"},{\"sepal_length\":7.7,\"sepal_width\":3.0,\"petal_length\":6.1,\"petal_width\":2.3,\"species\":\"virginica\"},{\"sepal_length\":6.3,\"sepal_width\":3.4,\"petal_length\":5.6,\"petal_width\":2.4,\"species\":\"virginica\"},{\"sepal_length\":6.4,\"sepal_width\":3.1,\"petal_length\":5.5,\"petal_width\":1.8,\"species\":\"virginica\"},{\"sepal_length\":6.0,\"sepal_width\":3.0,\"petal_length\":4.8,\"petal_width\":1.8,\"species\":\"virginica\"},{\"sepal_length\":6.9,\"sepal_width\":3.1,\"petal_length\":5.4,\"petal_width\":2.1,\"species\":\"virginica\"},{\"sepal_length\":6.7,\"sepal_width\":3.1,\"petal_length\":5.6,\"petal_width\":2.4,\"species\":\"virginica\"},{\"sepal_length\":6.9,\"sepal_width\":3.1,\"petal_length\":5.1,\"petal_width\":2.3,\"species\":\"virginica\"},{\"sepal_length\":5.8,\"sepal_width\":2.7,\"petal_length\":5.1,\"petal_width\":1.9,\"species\":\"virginica\"},{\"sepal_length\":6.8,\"sepal_width\":3.2,\"petal_length\":5.9,\"petal_width\":2.3,\"species\":\"virginica\"},{\"sepal_length\":6.7,\"sepal_width\":3.3,\"petal_length\":5.7,\"petal_width\":2.5,\"species\":\"virginica\"},{\"sepal_length\":6.7,\"sepal_width\":3.0,\"petal_length\":5.2,\"petal_width\":2.3,\"species\":\"virginica\"},{\"sepal_length\":6.3,\"sepal_width\":2.5,\"petal_length\":5.0,\"petal_width\":1.9,\"species\":\"virginica\"},{\"sepal_length\":6.5,\"sepal_width\":3.0,\"petal_length\":5.2,\"petal_width\":2.0,\"species\":\"virginica\"},{\"sepal_length\":6.2,\"sepal_width\":3.4,\"petal_length\":5.4,\"petal_width\":2.3,\"species\":\"virginica\"},{\"sepal_length\":5.9,\"sepal_width\":3.0,\"petal_length\":5.1,\"petal_width\":1.8,\"species\":\"virginica\"}],\"4b5665e9-adc5-4127-af0f-931653704356\":[{\"data0\":4,\"data1\":0.33465718340646866},{\"data0\":5,\"data1\":2.192166848827914},{\"data0\":6,\"data1\":4.04967651424936},{\"data0\":7,\"data1\":5.907186179670805},{\"data0\":8,\"data1\":7.764695845092251}]},\"extension\":[]}\n",
        "        Nyaplot.core.parse(model, '#vis-25143f7e-4fcf-4e51-9513-86adf5a0d290');\n",
        "    };\n",
        "    if(window['Nyaplot']==undefined){\n",
        "        window.addEventListener('load_nyaplot', render, false);\n",
        "\treturn;\n",
        "    } else {\n",
        "       render();\n",
        "    }\n",
        "})();\n",
        "</script>\n"
       ],
       "metadata": {},
       "output_type": "pyout",
       "prompt_number": 14,
       "text": [
        "#<Nyaplot::Plot:0xb952e860 @properties={:diagrams=>[#<Nyaplot::Diagram:0xb952d794 @properties={:type=>:scatter, :options=>{:x=>:sepal_length, :y=>:petal_length, :color=>[\"rgb(127,201,127)\", \"rgb(190,174,212)\", \"rgb(253,192,134)\", \"rgb(255,255,153)\", \"rgb(56,108,176)\", \"rgb(240,2,127)\", \"rgb(191,91,23)\", \"rgb(102,102,102)\"], :fill_by=>:species}, :data=>\"57a65d78-ecc2-4842-a37d-69ad38a8f9d1\"}, @xrange=[4.3, 7.9], @yrange=[1.0, 6.9]>, #<Nyaplot::Diagram:0xb9d1c2d4 @properties={:type=>:line, :options=>{:x=>\"data0\", :y=>\"data1\"}, :data=>\"4b5665e9-adc5-4127-af0f-931653704356\"}, @xrange=[4, 8], @yrange=[0.33465718340646866, 7.764695845092251]>], :options=>{:x_label=>:sepal_length, :y_label=>:petal_length, :zoom=>true, :width=>700, :xrange=>[4.3, 7.9], :yrange=>[1.0, 6.9]}}>"
       ]
      }
     ],
     "prompt_number": 14
    }
   ],
   "metadata": {}
  }
 ]
}